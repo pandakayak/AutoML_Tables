{
 "cells": [
  {
   "cell_type": "code",
   "execution_count": 1,
   "metadata": {},
   "outputs": [
    {
     "name": "stdout",
     "output_type": "stream",
     "text": [
      "Requirement already satisfied: google-cloud-automl in /home/jupyter/.local/lib/python2.7/site-packages\n",
      "Requirement already satisfied: enum34; python_version < \"3.4\" in /usr/lib/python2.7/dist-packages (from google-cloud-automl)\n",
      "Requirement already satisfied: google-api-core[grpc]<2.0.0dev,>=1.6.0 in /home/jupyter/.local/lib/python2.7/site-packages (from google-cloud-automl)\n",
      "Requirement already satisfied: requests<3.0.0dev,>=2.18.0 in /home/jupyter/.local/lib/python2.7/site-packages (from google-api-core[grpc]<2.0.0dev,>=1.6.0->google-cloud-automl)\n",
      "Requirement already satisfied: pytz in /usr/local/lib/python2.7/dist-packages (from google-api-core[grpc]<2.0.0dev,>=1.6.0->google-cloud-automl)\n",
      "Requirement already satisfied: futures>=3.2.0; python_version < \"3.2\" in /usr/local/lib/python2.7/dist-packages (from google-api-core[grpc]<2.0.0dev,>=1.6.0->google-cloud-automl)\n",
      "Requirement already satisfied: six>=1.10.0 in /usr/local/lib/python2.7/dist-packages (from google-api-core[grpc]<2.0.0dev,>=1.6.0->google-cloud-automl)\n",
      "Requirement already satisfied: setuptools>=34.0.0 in /home/jupyter/.local/lib/python2.7/site-packages (from google-api-core[grpc]<2.0.0dev,>=1.6.0->google-cloud-automl)\n",
      "Requirement already satisfied: google-auth<2.0dev,>=0.4.0 in /usr/local/lib/python2.7/dist-packages (from google-api-core[grpc]<2.0.0dev,>=1.6.0->google-cloud-automl)\n",
      "Requirement already satisfied: protobuf>=3.4.0 in /home/jupyter/.local/lib/python2.7/site-packages (from google-api-core[grpc]<2.0.0dev,>=1.6.0->google-cloud-automl)\n",
      "Requirement already satisfied: googleapis-common-protos!=1.5.4,<2.0dev,>=1.5.3 in /home/jupyter/.local/lib/python2.7/site-packages (from google-api-core[grpc]<2.0.0dev,>=1.6.0->google-cloud-automl)\n",
      "Requirement already satisfied: grpcio<2.0dev,>=1.8.2; extra == \"grpc\" in /home/jupyter/.local/lib/python2.7/site-packages (from google-api-core[grpc]<2.0.0dev,>=1.6.0->google-cloud-automl)\n",
      "Requirement already satisfied: idna<2.9,>=2.5 in /usr/local/lib/python2.7/dist-packages (from requests<3.0.0dev,>=2.18.0->google-api-core[grpc]<2.0.0dev,>=1.6.0->google-cloud-automl)\n",
      "Requirement already satisfied: chardet<3.1.0,>=3.0.2 in /usr/local/lib/python2.7/dist-packages (from requests<3.0.0dev,>=2.18.0->google-api-core[grpc]<2.0.0dev,>=1.6.0->google-cloud-automl)\n",
      "Requirement already satisfied: certifi>=2017.4.17 in /home/jupyter/.local/lib/python2.7/site-packages (from requests<3.0.0dev,>=2.18.0->google-api-core[grpc]<2.0.0dev,>=1.6.0->google-cloud-automl)\n",
      "Requirement already satisfied: urllib3!=1.25.0,!=1.25.1,<1.26,>=1.21.1 in /home/jupyter/.local/lib/python2.7/site-packages (from requests<3.0.0dev,>=2.18.0->google-api-core[grpc]<2.0.0dev,>=1.6.0->google-cloud-automl)\n",
      "Requirement already satisfied: pyasn1-modules>=0.2.1 in /home/jupyter/.local/lib/python2.7/site-packages (from google-auth<2.0dev,>=0.4.0->google-api-core[grpc]<2.0.0dev,>=1.6.0->google-cloud-automl)\n",
      "Requirement already satisfied: rsa>=3.1.4 in /usr/local/lib/python2.7/dist-packages (from google-auth<2.0dev,>=0.4.0->google-api-core[grpc]<2.0.0dev,>=1.6.0->google-cloud-automl)\n",
      "Requirement already satisfied: cachetools>=2.0.0 in /home/jupyter/.local/lib/python2.7/site-packages (from google-auth<2.0dev,>=0.4.0->google-api-core[grpc]<2.0.0dev,>=1.6.0->google-cloud-automl)\n",
      "Requirement already satisfied: pyasn1<0.5.0,>=0.4.1 in /usr/local/lib/python2.7/dist-packages (from pyasn1-modules>=0.2.1->google-auth<2.0dev,>=0.4.0->google-api-core[grpc]<2.0.0dev,>=1.6.0->google-cloud-automl)\n"
     ]
    }
   ],
   "source": [
    "# Install the client library,using pip.\n",
    "\n",
    "!pip install google-cloud-automl"
   ]
  },
  {
   "cell_type": "code",
   "execution_count": 2,
   "metadata": {},
   "outputs": [],
   "source": [
    "from google.cloud import bigquery\n",
    "import numpy as np\n",
    "import pandas as pd\n",
    "import matplotlib.pyplot as plt\n",
    "import seaborn as sns\n",
    "\n",
    "sns.set_style(\"darkgrid\")\n",
    "sns.set_palette(\"muted\")"
   ]
  },
  {
   "cell_type": "markdown",
   "metadata": {},
   "source": [
    "# Session 1: The data--gathering and preparing"
   ]
  },
  {
   "cell_type": "code",
   "execution_count": 3,
   "metadata": {},
   "outputs": [],
   "source": [
    "%%bigquery train\n",
    "SELECT\n",
    "    *\n",
    "FROM `demo3.train`"
   ]
  },
  {
   "cell_type": "code",
   "execution_count": 4,
   "metadata": {},
   "outputs": [],
   "source": [
    "%%bigquery test\n",
    "SELECT\n",
    "    *\n",
    "FROM `demo3.test`"
   ]
  },
  {
   "cell_type": "code",
   "execution_count": 5,
   "metadata": {},
   "outputs": [
    {
     "data": {
      "text/html": [
       "<div>\n",
       "<style scoped>\n",
       "    .dataframe tbody tr th:only-of-type {\n",
       "        vertical-align: middle;\n",
       "    }\n",
       "\n",
       "    .dataframe tbody tr th {\n",
       "        vertical-align: top;\n",
       "    }\n",
       "\n",
       "    .dataframe thead th {\n",
       "        text-align: right;\n",
       "    }\n",
       "</style>\n",
       "<table border=\"1\" class=\"dataframe\">\n",
       "  <thead>\n",
       "    <tr style=\"text-align: right;\">\n",
       "      <th></th>\n",
       "      <th>hour</th>\n",
       "      <th>weekday</th>\n",
       "      <th>pickup_latitude</th>\n",
       "      <th>pickup_longitude</th>\n",
       "      <th>dropoff_latitude</th>\n",
       "      <th>dropoff_longitude</th>\n",
       "      <th>k2</th>\n",
       "      <th>is_luxury</th>\n",
       "      <th>fare_dollars</th>\n",
       "    </tr>\n",
       "  </thead>\n",
       "  <tbody>\n",
       "    <tr>\n",
       "      <th>0</th>\n",
       "      <td>16</td>\n",
       "      <td>Sat</td>\n",
       "      <td>41.892508</td>\n",
       "      <td>-87.626215</td>\n",
       "      <td>41.920452</td>\n",
       "      <td>-87.679955</td>\n",
       "      <td>0</td>\n",
       "      <td>0</td>\n",
       "      <td>12.05</td>\n",
       "    </tr>\n",
       "    <tr>\n",
       "      <th>1</th>\n",
       "      <td>9</td>\n",
       "      <td>Sat</td>\n",
       "      <td>41.892042</td>\n",
       "      <td>-87.631864</td>\n",
       "      <td>41.920452</td>\n",
       "      <td>-87.679955</td>\n",
       "      <td>0</td>\n",
       "      <td>0</td>\n",
       "      <td>15.65</td>\n",
       "    </tr>\n",
       "    <tr>\n",
       "      <th>2</th>\n",
       "      <td>18</td>\n",
       "      <td>Tue</td>\n",
       "      <td>41.979071</td>\n",
       "      <td>-87.903040</td>\n",
       "      <td>41.920452</td>\n",
       "      <td>-87.679955</td>\n",
       "      <td>0</td>\n",
       "      <td>0</td>\n",
       "      <td>29.05</td>\n",
       "    </tr>\n",
       "    <tr>\n",
       "      <th>3</th>\n",
       "      <td>13</td>\n",
       "      <td>Sat</td>\n",
       "      <td>41.900266</td>\n",
       "      <td>-87.632109</td>\n",
       "      <td>41.920452</td>\n",
       "      <td>-87.679955</td>\n",
       "      <td>0</td>\n",
       "      <td>0</td>\n",
       "      <td>15.45</td>\n",
       "    </tr>\n",
       "    <tr>\n",
       "      <th>4</th>\n",
       "      <td>17</td>\n",
       "      <td>Fri</td>\n",
       "      <td>41.914616</td>\n",
       "      <td>-87.631717</td>\n",
       "      <td>41.920452</td>\n",
       "      <td>-87.679955</td>\n",
       "      <td>0</td>\n",
       "      <td>0</td>\n",
       "      <td>8.65</td>\n",
       "    </tr>\n",
       "  </tbody>\n",
       "</table>\n",
       "</div>"
      ],
      "text/plain": [
       "   hour weekday  pickup_latitude  pickup_longitude  dropoff_latitude  \\\n",
       "0    16     Sat        41.892508        -87.626215         41.920452   \n",
       "1     9     Sat        41.892042        -87.631864         41.920452   \n",
       "2    18     Tue        41.979071        -87.903040         41.920452   \n",
       "3    13     Sat        41.900266        -87.632109         41.920452   \n",
       "4    17     Fri        41.914616        -87.631717         41.920452   \n",
       "\n",
       "   dropoff_longitude  k2  is_luxury  fare_dollars  \n",
       "0         -87.679955   0          0         12.05  \n",
       "1         -87.679955   0          0         15.65  \n",
       "2         -87.679955   0          0         29.05  \n",
       "3         -87.679955   0          0         15.45  \n",
       "4         -87.679955   0          0          8.65  "
      ]
     },
     "execution_count": 5,
     "metadata": {},
     "output_type": "execute_result"
    }
   ],
   "source": [
    "train.head()"
   ]
  },
  {
   "cell_type": "code",
   "execution_count": 6,
   "metadata": {},
   "outputs": [
    {
     "data": {
      "text/plain": [
       "hour                   int64\n",
       "weekday               object\n",
       "pickup_latitude      float64\n",
       "pickup_longitude     float64\n",
       "dropoff_latitude     float64\n",
       "dropoff_longitude    float64\n",
       "k2                     int64\n",
       "is_luxury              int64\n",
       "fare_dollars         float64\n",
       "dtype: object"
      ]
     },
     "execution_count": 6,
     "metadata": {},
     "output_type": "execute_result"
    }
   ],
   "source": [
    "train.dtypes"
   ]
  },
  {
   "cell_type": "code",
   "execution_count": 7,
   "metadata": {},
   "outputs": [
    {
     "data": {
      "text/plain": [
       "hour                 0\n",
       "weekday              0\n",
       "pickup_latitude      0\n",
       "pickup_longitude     0\n",
       "dropoff_latitude     0\n",
       "dropoff_longitude    0\n",
       "k2                   0\n",
       "is_luxury            0\n",
       "fare_dollars         0\n",
       "dtype: int64"
      ]
     },
     "execution_count": 7,
     "metadata": {},
     "output_type": "execute_result"
    }
   ],
   "source": [
    "train.isnull().sum()"
   ]
  },
  {
   "cell_type": "code",
   "execution_count": 8,
   "metadata": {},
   "outputs": [
    {
     "data": {
      "text/html": [
       "<div>\n",
       "<style scoped>\n",
       "    .dataframe tbody tr th:only-of-type {\n",
       "        vertical-align: middle;\n",
       "    }\n",
       "\n",
       "    .dataframe tbody tr th {\n",
       "        vertical-align: top;\n",
       "    }\n",
       "\n",
       "    .dataframe thead th {\n",
       "        text-align: right;\n",
       "    }\n",
       "</style>\n",
       "<table border=\"1\" class=\"dataframe\">\n",
       "  <thead>\n",
       "    <tr style=\"text-align: right;\">\n",
       "      <th></th>\n",
       "      <th>hour</th>\n",
       "      <th>pickup_latitude</th>\n",
       "      <th>pickup_longitude</th>\n",
       "      <th>dropoff_latitude</th>\n",
       "      <th>dropoff_longitude</th>\n",
       "      <th>k2</th>\n",
       "      <th>is_luxury</th>\n",
       "      <th>fare_dollars</th>\n",
       "    </tr>\n",
       "  </thead>\n",
       "  <tbody>\n",
       "    <tr>\n",
       "      <th>count</th>\n",
       "      <td>58321.000000</td>\n",
       "      <td>58321.000000</td>\n",
       "      <td>58321.000000</td>\n",
       "      <td>58321.000000</td>\n",
       "      <td>58321.000000</td>\n",
       "      <td>58321.000000</td>\n",
       "      <td>58321.000000</td>\n",
       "      <td>58321.000000</td>\n",
       "    </tr>\n",
       "    <tr>\n",
       "      <th>mean</th>\n",
       "      <td>11.331510</td>\n",
       "      <td>41.903629</td>\n",
       "      <td>-87.663460</td>\n",
       "      <td>41.904100</td>\n",
       "      <td>-87.661239</td>\n",
       "      <td>0.099227</td>\n",
       "      <td>0.028635</td>\n",
       "      <td>15.135680</td>\n",
       "    </tr>\n",
       "    <tr>\n",
       "      <th>std</th>\n",
       "      <td>5.557207</td>\n",
       "      <td>0.039958</td>\n",
       "      <td>0.076259</td>\n",
       "      <td>0.042102</td>\n",
       "      <td>0.066632</td>\n",
       "      <td>0.298969</td>\n",
       "      <td>0.166779</td>\n",
       "      <td>11.307057</td>\n",
       "    </tr>\n",
       "    <tr>\n",
       "      <th>min</th>\n",
       "      <td>0.000000</td>\n",
       "      <td>41.673820</td>\n",
       "      <td>-87.913625</td>\n",
       "      <td>41.673820</td>\n",
       "      <td>-87.913625</td>\n",
       "      <td>0.000000</td>\n",
       "      <td>0.000000</td>\n",
       "      <td>1.340000</td>\n",
       "    </tr>\n",
       "    <tr>\n",
       "      <th>25%</th>\n",
       "      <td>7.000000</td>\n",
       "      <td>41.880994</td>\n",
       "      <td>-87.655998</td>\n",
       "      <td>41.880994</td>\n",
       "      <td>-87.663416</td>\n",
       "      <td>0.000000</td>\n",
       "      <td>0.000000</td>\n",
       "      <td>7.650000</td>\n",
       "    </tr>\n",
       "    <tr>\n",
       "      <th>50%</th>\n",
       "      <td>12.000000</td>\n",
       "      <td>41.893216</td>\n",
       "      <td>-87.633308</td>\n",
       "      <td>41.895033</td>\n",
       "      <td>-87.637844</td>\n",
       "      <td>0.000000</td>\n",
       "      <td>0.000000</td>\n",
       "      <td>10.650000</td>\n",
       "    </tr>\n",
       "    <tr>\n",
       "      <th>75%</th>\n",
       "      <td>15.000000</td>\n",
       "      <td>41.922686</td>\n",
       "      <td>-87.626211</td>\n",
       "      <td>41.928432</td>\n",
       "      <td>-87.626215</td>\n",
       "      <td>0.000000</td>\n",
       "      <td>0.000000</td>\n",
       "      <td>17.450000</td>\n",
       "    </tr>\n",
       "    <tr>\n",
       "      <th>max</th>\n",
       "      <td>23.000000</td>\n",
       "      <td>42.016046</td>\n",
       "      <td>-87.551428</td>\n",
       "      <td>42.015934</td>\n",
       "      <td>-87.534903</td>\n",
       "      <td>1.000000</td>\n",
       "      <td>1.000000</td>\n",
       "      <td>154.650000</td>\n",
       "    </tr>\n",
       "  </tbody>\n",
       "</table>\n",
       "</div>"
      ],
      "text/plain": [
       "               hour  pickup_latitude  pickup_longitude  dropoff_latitude  \\\n",
       "count  58321.000000     58321.000000      58321.000000      58321.000000   \n",
       "mean      11.331510        41.903629        -87.663460         41.904100   \n",
       "std        5.557207         0.039958          0.076259          0.042102   \n",
       "min        0.000000        41.673820        -87.913625         41.673820   \n",
       "25%        7.000000        41.880994        -87.655998         41.880994   \n",
       "50%       12.000000        41.893216        -87.633308         41.895033   \n",
       "75%       15.000000        41.922686        -87.626211         41.928432   \n",
       "max       23.000000        42.016046        -87.551428         42.015934   \n",
       "\n",
       "       dropoff_longitude            k2     is_luxury  fare_dollars  \n",
       "count       58321.000000  58321.000000  58321.000000  58321.000000  \n",
       "mean          -87.661239      0.099227      0.028635     15.135680  \n",
       "std             0.066632      0.298969      0.166779     11.307057  \n",
       "min           -87.913625      0.000000      0.000000      1.340000  \n",
       "25%           -87.663416      0.000000      0.000000      7.650000  \n",
       "50%           -87.637844      0.000000      0.000000     10.650000  \n",
       "75%           -87.626215      0.000000      0.000000     17.450000  \n",
       "max           -87.534903      1.000000      1.000000    154.650000  "
      ]
     },
     "execution_count": 8,
     "metadata": {},
     "output_type": "execute_result"
    }
   ],
   "source": [
    "train.describe()"
   ]
  },
  {
   "cell_type": "code",
   "execution_count": 9,
   "metadata": {},
   "outputs": [
    {
     "data": {
      "text/html": [
       "<div>\n",
       "<style scoped>\n",
       "    .dataframe tbody tr th:only-of-type {\n",
       "        vertical-align: middle;\n",
       "    }\n",
       "\n",
       "    .dataframe tbody tr th {\n",
       "        vertical-align: top;\n",
       "    }\n",
       "\n",
       "    .dataframe thead th {\n",
       "        text-align: right;\n",
       "    }\n",
       "</style>\n",
       "<table border=\"1\" class=\"dataframe\">\n",
       "  <thead>\n",
       "    <tr style=\"text-align: right;\">\n",
       "      <th></th>\n",
       "      <th>hour</th>\n",
       "      <th>weekday</th>\n",
       "      <th>pickup_latitude</th>\n",
       "      <th>pickup_longitude</th>\n",
       "      <th>dropoff_latitude</th>\n",
       "      <th>dropoff_longitude</th>\n",
       "      <th>k2</th>\n",
       "      <th>is_luxury</th>\n",
       "      <th>fare_dollars</th>\n",
       "    </tr>\n",
       "  </thead>\n",
       "  <tbody>\n",
       "    <tr>\n",
       "      <th>0</th>\n",
       "      <td>5</td>\n",
       "      <td>Mon</td>\n",
       "      <td>41.922686</td>\n",
       "      <td>-87.649489</td>\n",
       "      <td>41.899602</td>\n",
       "      <td>-87.633308</td>\n",
       "      <td>0</td>\n",
       "      <td>0</td>\n",
       "      <td>0.1065</td>\n",
       "    </tr>\n",
       "    <tr>\n",
       "      <th>1</th>\n",
       "      <td>1</td>\n",
       "      <td>Mon</td>\n",
       "      <td>41.921778</td>\n",
       "      <td>-87.641460</td>\n",
       "      <td>41.880994</td>\n",
       "      <td>-87.632746</td>\n",
       "      <td>0</td>\n",
       "      <td>0</td>\n",
       "      <td>0.1200</td>\n",
       "    </tr>\n",
       "    <tr>\n",
       "      <th>2</th>\n",
       "      <td>12</td>\n",
       "      <td>Fri</td>\n",
       "      <td>41.904935</td>\n",
       "      <td>-87.649907</td>\n",
       "      <td>41.885281</td>\n",
       "      <td>-87.657233</td>\n",
       "      <td>0</td>\n",
       "      <td>1</td>\n",
       "      <td>0.1500</td>\n",
       "    </tr>\n",
       "    <tr>\n",
       "      <th>3</th>\n",
       "      <td>5</td>\n",
       "      <td>Fri</td>\n",
       "      <td>41.878866</td>\n",
       "      <td>-87.625192</td>\n",
       "      <td>41.922686</td>\n",
       "      <td>-87.649489</td>\n",
       "      <td>0</td>\n",
       "      <td>1</td>\n",
       "      <td>0.1345</td>\n",
       "    </tr>\n",
       "    <tr>\n",
       "      <th>4</th>\n",
       "      <td>11</td>\n",
       "      <td>Mon</td>\n",
       "      <td>41.880994</td>\n",
       "      <td>-87.632746</td>\n",
       "      <td>41.904935</td>\n",
       "      <td>-87.649907</td>\n",
       "      <td>0</td>\n",
       "      <td>0</td>\n",
       "      <td>0.0945</td>\n",
       "    </tr>\n",
       "  </tbody>\n",
       "</table>\n",
       "</div>"
      ],
      "text/plain": [
       "   hour weekday  pickup_latitude  pickup_longitude  dropoff_latitude  \\\n",
       "0     5     Mon        41.922686        -87.649489         41.899602   \n",
       "1     1     Mon        41.921778        -87.641460         41.880994   \n",
       "2    12     Fri        41.904935        -87.649907         41.885281   \n",
       "3     5     Fri        41.878866        -87.625192         41.922686   \n",
       "4    11     Mon        41.880994        -87.632746         41.904935   \n",
       "\n",
       "   dropoff_longitude  k2  is_luxury  fare_dollars  \n",
       "0         -87.633308   0          0        0.1065  \n",
       "1         -87.632746   0          0        0.1200  \n",
       "2         -87.657233   0          1        0.1500  \n",
       "3         -87.649489   0          1        0.1345  \n",
       "4         -87.649907   0          0        0.0945  "
      ]
     },
     "execution_count": 9,
     "metadata": {},
     "output_type": "execute_result"
    }
   ],
   "source": [
    "test.head()"
   ]
  },
  {
   "cell_type": "code",
   "execution_count": 10,
   "metadata": {},
   "outputs": [
    {
     "data": {
      "text/plain": [
       "hour                   int64\n",
       "weekday               object\n",
       "pickup_latitude      float64\n",
       "pickup_longitude     float64\n",
       "dropoff_latitude     float64\n",
       "dropoff_longitude    float64\n",
       "k2                     int64\n",
       "is_luxury              int64\n",
       "fare_dollars         float64\n",
       "dtype: object"
      ]
     },
     "execution_count": 10,
     "metadata": {},
     "output_type": "execute_result"
    }
   ],
   "source": [
    "test.dtypes"
   ]
  },
  {
   "cell_type": "code",
   "execution_count": 11,
   "metadata": {},
   "outputs": [
    {
     "data": {
      "text/plain": [
       "hour                  0\n",
       "weekday               0\n",
       "pickup_latitude      10\n",
       "pickup_longitude     10\n",
       "dropoff_latitude     11\n",
       "dropoff_longitude    11\n",
       "k2                    0\n",
       "is_luxury             0\n",
       "fare_dollars          0\n",
       "dtype: int64"
      ]
     },
     "execution_count": 11,
     "metadata": {},
     "output_type": "execute_result"
    }
   ],
   "source": [
    "test.isnull().sum()"
   ]
  },
  {
   "cell_type": "code",
   "execution_count": 12,
   "metadata": {},
   "outputs": [
    {
     "data": {
      "text/html": [
       "<div>\n",
       "<style scoped>\n",
       "    .dataframe tbody tr th:only-of-type {\n",
       "        vertical-align: middle;\n",
       "    }\n",
       "\n",
       "    .dataframe tbody tr th {\n",
       "        vertical-align: top;\n",
       "    }\n",
       "\n",
       "    .dataframe thead th {\n",
       "        text-align: right;\n",
       "    }\n",
       "</style>\n",
       "<table border=\"1\" class=\"dataframe\">\n",
       "  <thead>\n",
       "    <tr style=\"text-align: right;\">\n",
       "      <th></th>\n",
       "      <th>hour</th>\n",
       "      <th>pickup_latitude</th>\n",
       "      <th>pickup_longitude</th>\n",
       "      <th>dropoff_latitude</th>\n",
       "      <th>dropoff_longitude</th>\n",
       "      <th>k2</th>\n",
       "      <th>is_luxury</th>\n",
       "      <th>fare_dollars</th>\n",
       "    </tr>\n",
       "  </thead>\n",
       "  <tbody>\n",
       "    <tr>\n",
       "      <th>count</th>\n",
       "      <td>100.000000</td>\n",
       "      <td>90.000000</td>\n",
       "      <td>90.000000</td>\n",
       "      <td>89.000000</td>\n",
       "      <td>89.000000</td>\n",
       "      <td>100.000000</td>\n",
       "      <td>100.000000</td>\n",
       "      <td>100.000000</td>\n",
       "    </tr>\n",
       "    <tr>\n",
       "      <th>mean</th>\n",
       "      <td>12.510000</td>\n",
       "      <td>41.899677</td>\n",
       "      <td>-87.654925</td>\n",
       "      <td>41.897212</td>\n",
       "      <td>-87.650229</td>\n",
       "      <td>0.950000</td>\n",
       "      <td>0.030000</td>\n",
       "      <td>0.114738</td>\n",
       "    </tr>\n",
       "    <tr>\n",
       "      <th>std</th>\n",
       "      <td>5.739276</td>\n",
       "      <td>0.031701</td>\n",
       "      <td>0.066765</td>\n",
       "      <td>0.032322</td>\n",
       "      <td>0.051947</td>\n",
       "      <td>0.219043</td>\n",
       "      <td>0.171447</td>\n",
       "      <td>0.095025</td>\n",
       "    </tr>\n",
       "    <tr>\n",
       "      <th>min</th>\n",
       "      <td>1.000000</td>\n",
       "      <td>41.792592</td>\n",
       "      <td>-87.913625</td>\n",
       "      <td>41.794090</td>\n",
       "      <td>-87.903040</td>\n",
       "      <td>0.000000</td>\n",
       "      <td>0.000000</td>\n",
       "      <td>0.040500</td>\n",
       "    </tr>\n",
       "    <tr>\n",
       "      <th>25%</th>\n",
       "      <td>7.750000</td>\n",
       "      <td>41.880994</td>\n",
       "      <td>-87.648812</td>\n",
       "      <td>41.880994</td>\n",
       "      <td>-87.655998</td>\n",
       "      <td>1.000000</td>\n",
       "      <td>0.000000</td>\n",
       "      <td>0.060000</td>\n",
       "    </tr>\n",
       "    <tr>\n",
       "      <th>50%</th>\n",
       "      <td>14.000000</td>\n",
       "      <td>41.892042</td>\n",
       "      <td>-87.632746</td>\n",
       "      <td>41.892508</td>\n",
       "      <td>-87.637844</td>\n",
       "      <td>1.000000</td>\n",
       "      <td>0.000000</td>\n",
       "      <td>0.080250</td>\n",
       "    </tr>\n",
       "    <tr>\n",
       "      <th>75%</th>\n",
       "      <td>17.000000</td>\n",
       "      <td>41.907024</td>\n",
       "      <td>-87.626215</td>\n",
       "      <td>41.914616</td>\n",
       "      <td>-87.631717</td>\n",
       "      <td>1.000000</td>\n",
       "      <td>0.000000</td>\n",
       "      <td>0.112500</td>\n",
       "    </tr>\n",
       "    <tr>\n",
       "      <th>max</th>\n",
       "      <td>23.000000</td>\n",
       "      <td>41.980264</td>\n",
       "      <td>-87.612945</td>\n",
       "      <td>41.983636</td>\n",
       "      <td>-87.592311</td>\n",
       "      <td>1.000000</td>\n",
       "      <td>1.000000</td>\n",
       "      <td>0.512500</td>\n",
       "    </tr>\n",
       "  </tbody>\n",
       "</table>\n",
       "</div>"
      ],
      "text/plain": [
       "             hour  pickup_latitude  pickup_longitude  dropoff_latitude  \\\n",
       "count  100.000000        90.000000         90.000000         89.000000   \n",
       "mean    12.510000        41.899677        -87.654925         41.897212   \n",
       "std      5.739276         0.031701          0.066765          0.032322   \n",
       "min      1.000000        41.792592        -87.913625         41.794090   \n",
       "25%      7.750000        41.880994        -87.648812         41.880994   \n",
       "50%     14.000000        41.892042        -87.632746         41.892508   \n",
       "75%     17.000000        41.907024        -87.626215         41.914616   \n",
       "max     23.000000        41.980264        -87.612945         41.983636   \n",
       "\n",
       "       dropoff_longitude          k2   is_luxury  fare_dollars  \n",
       "count          89.000000  100.000000  100.000000    100.000000  \n",
       "mean          -87.650229    0.950000    0.030000      0.114738  \n",
       "std             0.051947    0.219043    0.171447      0.095025  \n",
       "min           -87.903040    0.000000    0.000000      0.040500  \n",
       "25%           -87.655998    1.000000    0.000000      0.060000  \n",
       "50%           -87.637844    1.000000    0.000000      0.080250  \n",
       "75%           -87.631717    1.000000    0.000000      0.112500  \n",
       "max           -87.592311    1.000000    1.000000      0.512500  "
      ]
     },
     "execution_count": 12,
     "metadata": {},
     "output_type": "execute_result"
    }
   ],
   "source": [
    "test.describe()"
   ]
  },
  {
   "cell_type": "code",
   "execution_count": 13,
   "metadata": {},
   "outputs": [
    {
     "data": {
      "image/png": "[encoded data removed]",
      "text/plain": [
       "<Figure size 720x504 with 1 Axes>"
      ]
     },
     "metadata": {},
     "output_type": "display_data"
    }
   ],
   "source": [
    "# plot the hour distribution (hour of the day)\n",
    "\n",
    "plt.figure(figsize=(10,7))\n",
    "sns.distplot(train['hour'], color='blue', label='hour_train', hist=False)\n",
    "sns.distplot(test['hour'], color='green', label='hour_test', hist=False)\n",
    "plt.show()"
   ]
  },
  {
   "cell_type": "code",
   "execution_count": 14,
   "metadata": {},
   "outputs": [
    {
     "data": {
      "image/png": "[encoded data removed]",
      "text/plain": [
       "<Figure size 720x504 with 1 Axes>"
      ]
     },
     "metadata": {},
     "output_type": "display_data"
    }
   ],
   "source": [
    "# plot the k2 distribution (k2: cluster of the driver based on the clustering results)\n",
    "\n",
    "plt.figure(figsize=(10,7))\n",
    "sns.distplot(train['k2'], color='blue', label='k2_train', hist=False)\n",
    "sns.distplot(test['k2'], color='green', label='k2_test', hist=False)\n",
    "plt.show()"
   ]
  },
  {
   "cell_type": "code",
   "execution_count": 15,
   "metadata": {},
   "outputs": [
    {
     "data": {
      "image/png": "[encoded data removed]",
      "text/plain": [
       "<Figure size 720x504 with 1 Axes>"
      ]
     },
     "metadata": {},
     "output_type": "display_data"
    }
   ],
   "source": [
    "# plot the is_luxury distribution  ==> most of the trips are non-luxury, in both train and test dataset\n",
    "\n",
    "plt.figure(figsize=(10,7))\n",
    "sns.distplot(train['is_luxury'], color='blue', label='is_luxury_train', hist=False)\n",
    "sns.distplot(test['is_luxury'], color='green', label='is_luxury_test', hist=False)\n",
    "plt.show()"
   ]
  },
  {
   "cell_type": "code",
   "execution_count": 16,
   "metadata": {},
   "outputs": [
    {
     "data": {
      "image/png": "[encoded data removed]",
      "text/plain": [
       "<Figure size 720x504 with 1 Axes>"
      ]
     },
     "metadata": {},
     "output_type": "display_data"
    }
   ],
   "source": [
    "# plot the fare distribution\n",
    "\n",
    "plt.figure(figsize=(10,7))\n",
    "sns.distplot(train['fare_dollars'], color='blue', label='fare_train', hist=False)\n",
    "sns.distplot(test['fare_dollars'], color='green', label='fare_test', hist=False)\n",
    "plt.show()"
   ]
  },
  {
   "cell_type": "markdown",
   "metadata": {},
   "source": [
    "# Session 2: Import training set to AutoML Tables"
   ]
  },
  {
   "cell_type": "code",
   "execution_count": 17,
   "metadata": {},
   "outputs": [],
   "source": [
    "# Authenticate using service account key and create a client.\n",
    "\n",
    "from google.cloud import automl_v1beta1 as automl\n",
    "\n",
    "# Upload service account key\n",
    "keyfile_name = '$[account key json file name here], removed by security reason'\n",
    "# Authenticate and create an AutoML client.\n",
    "client = automl.AutoMlClient.from_service_account_file(keyfile_name)\n",
    "# Authenticate and create a prediction service client.\n",
    "prediction_client = automl.PredictionServiceClient.from_service_account_file(keyfile_name)"
   ]
  },
  {
   "cell_type": "code",
   "execution_count": null,
   "metadata": {},
   "outputs": [],
   "source": [
    "# GCP project ID and location\n",
    "\n",
    "project_id = '$[GCP project id here], removed by security reason'\n",
    "location = 'us-central1'  # only beta available in this location now\n",
    "\n",
    "location_path = client.location_path(project_id, location)\n",
    "location_path"
   ]
  },
  {
   "cell_type": "code",
   "execution_count": null,
   "metadata": {},
   "outputs": [],
   "source": [
    "# List existing dataset\n",
    "\n",
    "list_datasets_response = client.list_datasets(location_path)\n",
    "datasets = {\n",
    "    dataset.display_name: dataset.name for dataset in list_datasets_response}\n",
    "datasets"
   ]
  },
  {
   "cell_type": "code",
   "execution_count": null,
   "metadata": {},
   "outputs": [],
   "source": [
    "# List existing models. \n",
    "\n",
    "list_models_response = client.list_models(location_path)\n",
    "models = {model.display_name: model.name for model in list_models_response}\n",
    "models"
   ]
  },
  {
   "cell_type": "code",
   "execution_count": 21,
   "metadata": {},
   "outputs": [
    {
     "data": {
      "text/plain": [
       "name: \"projects/401832599639/locations/us-central1/datasets/TBL2662357455496806400\"\n",
       "display_name: \"demo3_chicago_taxi_fare\"\n",
       "create_time {\n",
       "  seconds: 1561592946\n",
       "  nanos: 627315000\n",
       "}\n",
       "etag: \"AB3BwFo1d5g8qGIdEdpVR7N0oitFT9vagzsgtMC5tWXkhy3KpSD9zQa5Jisdz12gRUA6\"\n",
       "tables_dataset_metadata {\n",
       "  stats_update_time {\n",
       "  }\n",
       "}"
      ]
     },
     "execution_count": 21,
     "metadata": {},
     "output_type": "execute_result"
    }
   ],
   "source": [
    "# create dataset in AutoML\n",
    "\n",
    "dataset_display_name = 'demo3_chicago_taxi_fare' \n",
    "create_dataset_response = client.create_dataset(\n",
    "    location_path,\n",
    "    {'display_name': dataset_display_name, 'tables_dataset_metadata': {}})\n",
    "dataset_name = create_dataset_response.name\n",
    "create_dataset_response"
   ]
  },
  {
   "cell_type": "code",
   "execution_count": 22,
   "metadata": {},
   "outputs": [],
   "source": [
    "# get training data path\n",
    "\n",
    "dataset_bq_input_uri = '$[bigquery dir here], removed by security reason'\n",
    "\n",
    "# Define input configuration.\n",
    "input_config = {\n",
    "    'bigquery_source': {\n",
    "        'input_uri': dataset_bq_input_uri\n",
    "    }\n",
    "}"
   ]
  },
  {
   "cell_type": "code",
   "execution_count": 23,
   "metadata": {},
   "outputs": [
    {
     "name": "stdout",
     "output_type": "stream",
     "text": [
      "Dataset import operation: name: \"projects/401832599639/locations/us-central1/operations/TBL1111232421728092160\"\n",
      "metadata {\n",
      "  type_url: \"type.googleapis.com/google.cloud.automl.v1beta1.OperationMetadata\"\n",
      "  value: \"\\032\\014\\010\\373\\210\\320\\350\\005\\020\\340\\361\\327\\271\\003\\\"\\014\\010\\373\\210\\320\\350\\005\\020\\340\\361\\327\\271\\003z\\000\"\n",
      "}\n",
      "\n"
     ]
    },
    {
     "data": {
      "text/plain": []
     },
     "execution_count": 23,
     "metadata": {},
     "output_type": "execute_result"
    }
   ],
   "source": [
    "# Import training data table into AutoML dataset \n",
    "\n",
    "import_data_response = client.import_data(dataset_name, input_config)\n",
    "print('Dataset import operation: {}'.format(import_data_response.operation))\n",
    "\n",
    "# Wait until import is done.\n",
    "import_data_result = import_data_response.result()\n",
    "import_data_result"
   ]
  },
  {
   "cell_type": "code",
   "execution_count": 24,
   "metadata": {},
   "outputs": [
    {
     "name": "stdout",
     "output_type": "stream",
     "text": [
      "List of datasets:\n",
      "Dataset name: projects/401832599639/locations/us-central1/datasets/TBL2662357455496806400\n",
      "Dataset id: TBL2662357455496806400\n",
      "Dataset display name: demo3_chicago_taxi_fare\n",
      "Dataset primary table spec id: 6309279195155398656\n",
      "Dataset target column spec id: \n",
      "Dataset target column spec id: \n",
      "Dataset weight column spec id: \n",
      "Dataset ml use column spec id: \n",
      "Dataset example count: 58321\n",
      "Dataset create time:\n",
      "\tseconds: 1561592946\n",
      "\tnanos: 627315000\n",
      "\n",
      "\n",
      "Dataset name: projects/401832599639/locations/us-central1/datasets/TBL6434878607419506688\n",
      "Dataset id: TBL6434878607419506688\n",
      "Dataset display name: ct_autoML\n",
      "Dataset primary table spec id: 2852784073334587392\n",
      "Dataset target column spec id: 7373993478935543808\n",
      "Dataset target column spec id: 7373993478935543808\n",
      "Dataset weight column spec id: \n",
      "Dataset ml use column spec id: \n",
      "Dataset example count: 77599\n",
      "Dataset create time:\n",
      "\tseconds: 1557965217\n",
      "\tnanos: 964480000\n",
      "\n",
      "\n",
      "Dataset name: projects/401832599639/locations/us-central1/datasets/TBL6976999412564230144\n",
      "Dataset id: TBL6976999412564230144\n",
      "Dataset display name: bf_autoML\n",
      "Dataset primary table spec id: 3476532621725401088\n",
      "Dataset target column spec id: 6517465124805017600\n",
      "Dataset target column spec id: 6517465124805017600\n",
      "Dataset weight column spec id: \n",
      "Dataset ml use column spec id: \n",
      "Dataset example count: 4712\n",
      "Dataset create time:\n",
      "\tseconds: 1557934629\n",
      "\tnanos: 539752000\n",
      "\n",
      "\n"
     ]
    }
   ],
   "source": [
    "# list existing datasets in AutoMl, to check if successfully import\n",
    "\n",
    "client = automl.AutoMlClient()\n",
    "\n",
    "# A resource that represents Google Cloud Platform location.\n",
    "project_location = client.location_path(project_id, location)\n",
    "\n",
    "# List all the datasets available in the region by applying filter.\n",
    "response = client.list_datasets(project_location)\n",
    "\n",
    "print(\"List of datasets:\")\n",
    "for dataset in response:\n",
    "    # Display the dataset information.\n",
    "    print(\"Dataset name: {}\".format(dataset.name))\n",
    "    print(\"Dataset id: {}\".format(dataset.name.split(\"/\")[-1]))\n",
    "    print(\"Dataset display name: {}\".format(dataset.display_name))\n",
    "    metadata = dataset.tables_dataset_metadata\n",
    "    print(\"Dataset primary table spec id: {}\".format(\n",
    "        metadata.primary_table_spec_id))\n",
    "    print(\"Dataset target column spec id: {}\".format(\n",
    "        metadata.target_column_spec_id))\n",
    "    print(\"Dataset target column spec id: {}\".format(\n",
    "        metadata.target_column_spec_id))\n",
    "    print(\"Dataset weight column spec id: {}\".format(\n",
    "        metadata.weight_column_spec_id))\n",
    "    print(\"Dataset ml use column spec id: {}\".format(\n",
    "        metadata.ml_use_column_spec_id))\n",
    "    print(\"Dataset example count: {}\".format(dataset.example_count))\n",
    "    print(\"Dataset create time:\")\n",
    "    print(\"\\tseconds: {}\".format(dataset.create_time.seconds))\n",
    "    print(\"\\tnanos: {}\".format(dataset.create_time.nanos))\n",
    "    print(\"\\n\")"
   ]
  },
  {
   "cell_type": "code",
   "execution_count": 25,
   "metadata": {},
   "outputs": [
    {
     "data": {
      "text/plain": [
       "[('dropoff_latitude', 'FLOAT64'),\n",
       " ('weekday', 'CATEGORY'),\n",
       " ('pickup_longitude', 'FLOAT64'),\n",
       " ('dropoff_longitude', 'FLOAT64'),\n",
       " ('is_luxury', 'CATEGORY'),\n",
       " ('k2', 'CATEGORY'),\n",
       " ('fare_dollars', 'FLOAT64'),\n",
       " ('pickup_latitude', 'FLOAT64'),\n",
       " ('hour', 'FLOAT64')]"
      ]
     },
     "execution_count": 25,
     "metadata": {},
     "output_type": "execute_result"
    }
   ],
   "source": [
    "# Schema review\n",
    "\n",
    "import google.cloud.automl_v1beta1.proto.data_types_pb2 as data_types\n",
    "\n",
    "# List table specs\n",
    "list_table_specs_response = client.list_table_specs(dataset_name)\n",
    "table_specs = [s for s in list_table_specs_response]\n",
    "\n",
    "# List column specs\n",
    "table_spec_name = table_specs[0].name\n",
    "list_column_specs_response = client.list_column_specs(table_spec_name)\n",
    "column_specs = {s.display_name: s for s in list_column_specs_response}\n",
    "[(x, data_types.TypeCode.Name(\n",
    "  column_specs[x].data_type.type_code)) for x in column_specs.keys()]"
   ]
  },
  {
   "cell_type": "code",
   "execution_count": 32,
   "metadata": {},
   "outputs": [
    {
     "name": "stdout",
     "output_type": "stream",
     "text": [
      "['dropoff_latitude', 'weekday', 'pickup_longitude', 'dropoff_longitude', 'is_luxury', 'k2', 'pickup_latitude', 'hour']\n",
      "['FLOAT64', 'CATEGORY', 'FLOAT64', 'FLOAT64', 'CATEGORY', 'CATEGORY', 'FLOAT64', 'FLOAT64', 'FLOAT64']\n"
     ]
    }
   ],
   "source": [
    "column_names = [x for x in column_specs.keys()]\n",
    "target = 'fare_dollars'\n",
    "target_index = column_names.index(target)\n",
    "features = column_names[:target_index] + column_names[target_index+1 :]\n",
    "print(features)\n",
    "\n",
    "feature_type = [data_types.TypeCode.Name(\n",
    "  column_specs[x].data_type.type_code) for x in column_specs.keys()]\n",
    "feature_Type = feature_type[:target_index] + feature_type[target_index+1 :]\n",
    "print(feature_type)"
   ]
  },
  {
   "cell_type": "code",
   "execution_count": 30,
   "metadata": {},
   "outputs": [],
   "source": [
    "def create_update_column_sepc_dict(column_name, type_code, nullable):\n",
    "    \"\"\"\n",
    "    Create `update_column_spec_dict` with a given column name and target `type_code`.\n",
    "    Inputs:\n",
    "        column_name: string. Represents column name.\n",
    "        type_code: string. Represents variable type. See details: \\\n",
    "                   https://cloud.google.com/automl-tables/docs/reference/rest/v1beta1/projects.locations.datasets.tableSpecs.columnSpecs#typecode\n",
    "        nullable: boolean. If true, this DataType can also be null.\n",
    "    Return:\n",
    "        update_column_spec_dict: dictionary. Encodes the target column specs.\n",
    "    \"\"\"\n",
    "    update_column_spec_dict = {\n",
    "        'name': column_specs[column_name].name,\n",
    "        'data_type': {\n",
    "            'type_code': type_code,\n",
    "            'nullable': nullable\n",
    "        }\n",
    "    }\n",
    "    return update_column_spec_dict"
   ]
  },
  {
   "cell_type": "code",
   "execution_count": 35,
   "metadata": {},
   "outputs": [],
   "source": [
    "# Update dataset\n",
    "\n",
    "is_nullable = is_nullable = [True] * len(features)\n",
    "\n",
    "for i in range(len(features)):\n",
    "    column_name = features[i]\n",
    "    nullable = is_nullable[i]\n",
    "    f_type = feature_type[i]\n",
    "    update_column_spec_dict = create_update_column_sepc_dict(column_name, f_type, nullable)\n",
    "    update_column_response = client.update_column_spec(update_column_spec_dict)"
   ]
  },
  {
   "cell_type": "code",
   "execution_count": 36,
   "metadata": {},
   "outputs": [
    {
     "name": "stdout",
     "output_type": "stream",
     "text": [
      "Label column ID: 6761477541334089728\n"
     ]
    },
    {
     "data": {
      "text/plain": [
       "name: \"projects/401832599639/locations/us-central1/datasets/TBL2662357455496806400\"\n",
       "display_name: \"demo3_chicago_taxi_fare\"\n",
       "create_time {\n",
       "  seconds: 1561592946\n",
       "  nanos: 627315000\n",
       "}\n",
       "etag: \"AB3BwFqpTDNnFzZD6_xeVF6TAfAUtzD6eqQTs_vBg0qFmXtuOFQqKUu3vjAseWh1ElM=\"\n",
       "example_count: 58321\n",
       "tables_dataset_metadata {\n",
       "  primary_table_spec_id: \"6309279195155398656\"\n",
       "  target_column_spec_id: \"6761477541334089728\"\n",
       "  stats_update_time {\n",
       "    seconds: 1561593060\n",
       "    nanos: 173000000\n",
       "  }\n",
       "}"
      ]
     },
     "execution_count": 36,
     "metadata": {},
     "output_type": "execute_result"
    }
   ],
   "source": [
    "# Update dataset - split features and target\n",
    "\n",
    "label_column_name = 'fare_dollars' \n",
    "label_column_spec = column_specs[label_column_name]\n",
    "label_column_id = label_column_spec.name.rsplit('/', 1)[-1]\n",
    "print('Label column ID: {}'.format(label_column_id))\n",
    "\n",
    "# Define the values of the fields to be updated.\n",
    "update_dataset_dict = {\n",
    "    'name': dataset_name,\n",
    "    'tables_dataset_metadata': {\n",
    "        'target_column_spec_id': label_column_id\n",
    "    }\n",
    "}\n",
    "\n",
    "update_dataset_response = client.update_dataset(update_dataset_dict)\n",
    "update_dataset_response"
   ]
  },
  {
   "cell_type": "markdown",
   "metadata": {},
   "source": [
    "# Session 3: Managing and training AutoML Tables model"
   ]
  },
  {
   "cell_type": "code",
   "execution_count": 37,
   "metadata": {},
   "outputs": [
    {
     "name": "stdout",
     "output_type": "stream",
     "text": [
      "Dataset import operation: name: \"projects/401832599639/locations/us-central1/operations/TBL1496853139821690880\"\n",
      "metadata {\n",
      "  type_url: \"type.googleapis.com/google.cloud.automl.v1beta1.OperationMetadata\"\n",
      "  value: \"\\032\\014\\010\\347\\217\\320\\350\\005\\020\\320\\317\\322\\232\\003\\\"\\014\\010\\347\\217\\320\\350\\005\\020\\320\\317\\322\\232\\003R\\000\"\n",
      "}\n",
      "\n"
     ]
    }
   ],
   "source": [
    "model_display_name = 'demo3_model' \n",
    "\n",
    "# the time budge is 5 hours\n",
    "model_dict = {\n",
    "    'display_name': model_display_name,\n",
    "    'dataset_id': dataset_name.rsplit('/', 1)[-1],\n",
    "    'tables_model_metadata': {'train_budget_milli_node_hours': 5000}\n",
    "}\n",
    "\n",
    "create_model_response = client.create_model(location_path, model_dict)\n",
    "print('Dataset import operation: {}'.format(create_model_response.operation))"
   ]
  },
  {
   "cell_type": "code",
   "execution_count": null,
   "metadata": {},
   "outputs": [],
   "source": [
    "# Wait until model training is done.\n",
    "create_model_result = create_model_response.result()\n",
    "model_name = create_model_result.name\n",
    "create_model_result"
   ]
  },
  {
   "cell_type": "code",
   "execution_count": 40,
   "metadata": {},
   "outputs": [
    {
     "name": "stdout",
     "output_type": "stream",
     "text": [
      "TBL4988132411498823680\n"
     ]
    }
   ],
   "source": [
    "model_id = model_name.split('/')[-1]\n",
    "print(model_id)"
   ]
  },
  {
   "cell_type": "markdown",
   "metadata": {},
   "source": [
    "# Session 4: Training performance"
   ]
  },
  {
   "cell_type": "code",
   "execution_count": 41,
   "metadata": {},
   "outputs": [
    {
     "data": {
      "text/plain": [
       "root_mean_squared_error: 3.860062837600708\n",
       "mean_absolute_error: 2.2028591632843018\n",
       "mean_absolute_percentage_error: 16.203702926635742\n",
       "r_squared: 0.8772143721580505\n",
       "root_mean_squared_log_error: 0.21583491563796997"
      ]
     },
     "execution_count": 41,
     "metadata": {},
     "output_type": "execute_result"
    }
   ],
   "source": [
    "# general regression metric results\n",
    "\n",
    "metrics= [x for x in client.list_model_evaluations(model_name)][-1]\n",
    "metrics.regression_evaluation_metrics"
   ]
  },
  {
   "cell_type": "code",
   "execution_count": 42,
   "metadata": {},
   "outputs": [
    {
     "data": {
      "text/plain": [
       "[(0.28349241614341736, 'pickup_longitude'),\n",
       " (0.23034091293811798, 'dropoff_latitude'),\n",
       " (0.2298014909029007, 'pickup_latitude'),\n",
       " (0.20292502641677856, 'dropoff_longitude'),\n",
       " (0.030780265107750893, 'hour'),\n",
       " (0.013594786636531353, 'weekday'),\n",
       " (0.007886284030973911, 'k2'),\n",
       " (0.0011788386618718505, 'is_luxury')]"
      ]
     },
     "execution_count": 42,
     "metadata": {},
     "output_type": "execute_result"
    }
   ],
   "source": [
    "# raw feature importance\n",
    "\n",
    "model = client.get_model(model_name)\n",
    "feat_list = [(x.feature_importance, x.column_display_name) for x in model.tables_model_metadata.tables_model_column_info]\n",
    "feat_list.sort(reverse=True)\n",
    "feat_list[:15]"
   ]
  },
  {
   "cell_type": "code",
   "execution_count": null,
   "metadata": {},
   "outputs": [],
   "source": []
  },
  {
   "cell_type": "markdown",
   "metadata": {},
   "source": [
    "# Session 5: Making batch predictions"
   ]
  },
  {
   "cell_type": "code",
   "execution_count": 160,
   "metadata": {},
   "outputs": [],
   "source": [
    "%%bigquery test\n",
    "SELECT\n",
    "    *\n",
    "FROM \n",
    "`demo3.test`"
   ]
  },
  {
   "cell_type": "code",
   "execution_count": 161,
   "metadata": {},
   "outputs": [
    {
     "name": "stdout",
     "output_type": "stream",
     "text": [
      "(64, 9)\n"
     ]
    },
    {
     "data": {
      "text/html": [
       "<div>\n",
       "<style scoped>\n",
       "    .dataframe tbody tr th:only-of-type {\n",
       "        vertical-align: middle;\n",
       "    }\n",
       "\n",
       "    .dataframe tbody tr th {\n",
       "        vertical-align: top;\n",
       "    }\n",
       "\n",
       "    .dataframe thead th {\n",
       "        text-align: right;\n",
       "    }\n",
       "</style>\n",
       "<table border=\"1\" class=\"dataframe\">\n",
       "  <thead>\n",
       "    <tr style=\"text-align: right;\">\n",
       "      <th></th>\n",
       "      <th>hour</th>\n",
       "      <th>weekday</th>\n",
       "      <th>pickup_latitude</th>\n",
       "      <th>pickup_longitude</th>\n",
       "      <th>dropoff_latitude</th>\n",
       "      <th>dropoff_longitude</th>\n",
       "      <th>k2</th>\n",
       "      <th>is_luxury</th>\n",
       "      <th>fare_dollars</th>\n",
       "    </tr>\n",
       "  </thead>\n",
       "  <tbody>\n",
       "    <tr>\n",
       "      <th>0</th>\n",
       "      <td>3</td>\n",
       "      <td>Tue</td>\n",
       "      <td>NaN</td>\n",
       "      <td>NaN</td>\n",
       "      <td>NaN</td>\n",
       "      <td>NaN</td>\n",
       "      <td>0</td>\n",
       "      <td>0</td>\n",
       "      <td>8.50</td>\n",
       "    </tr>\n",
       "    <tr>\n",
       "      <th>1</th>\n",
       "      <td>6</td>\n",
       "      <td>Mon</td>\n",
       "      <td>NaN</td>\n",
       "      <td>NaN</td>\n",
       "      <td>NaN</td>\n",
       "      <td>NaN</td>\n",
       "      <td>0</td>\n",
       "      <td>0</td>\n",
       "      <td>17.45</td>\n",
       "    </tr>\n",
       "    <tr>\n",
       "      <th>2</th>\n",
       "      <td>3</td>\n",
       "      <td>Fri</td>\n",
       "      <td>NaN</td>\n",
       "      <td>NaN</td>\n",
       "      <td>41.980264</td>\n",
       "      <td>-87.913625</td>\n",
       "      <td>0</td>\n",
       "      <td>0</td>\n",
       "      <td>48.40</td>\n",
       "    </tr>\n",
       "    <tr>\n",
       "      <th>3</th>\n",
       "      <td>1</td>\n",
       "      <td>Sun</td>\n",
       "      <td>NaN</td>\n",
       "      <td>NaN</td>\n",
       "      <td>NaN</td>\n",
       "      <td>NaN</td>\n",
       "      <td>0</td>\n",
       "      <td>0</td>\n",
       "      <td>7.65</td>\n",
       "    </tr>\n",
       "    <tr>\n",
       "      <th>4</th>\n",
       "      <td>5</td>\n",
       "      <td>Wed</td>\n",
       "      <td>NaN</td>\n",
       "      <td>NaN</td>\n",
       "      <td>NaN</td>\n",
       "      <td>NaN</td>\n",
       "      <td>0</td>\n",
       "      <td>0</td>\n",
       "      <td>7.45</td>\n",
       "    </tr>\n",
       "  </tbody>\n",
       "</table>\n",
       "</div>"
      ],
      "text/plain": [
       "   hour weekday  pickup_latitude  pickup_longitude  dropoff_latitude  \\\n",
       "0     3     Tue              NaN               NaN               NaN   \n",
       "1     6     Mon              NaN               NaN               NaN   \n",
       "2     3     Fri              NaN               NaN         41.980264   \n",
       "3     1     Sun              NaN               NaN               NaN   \n",
       "4     5     Wed              NaN               NaN               NaN   \n",
       "\n",
       "   dropoff_longitude  k2  is_luxury  fare_dollars  \n",
       "0                NaN   0          0          8.50  \n",
       "1                NaN   0          0         17.45  \n",
       "2         -87.913625   0          0         48.40  \n",
       "3                NaN   0          0          7.65  \n",
       "4                NaN   0          0          7.45  "
      ]
     },
     "execution_count": 161,
     "metadata": {},
     "output_type": "execute_result"
    }
   ],
   "source": [
    "print(test.shape)\n",
    "test.head()"
   ]
  },
  {
   "cell_type": "code",
   "execution_count": 169,
   "metadata": {},
   "outputs": [
    {
     "name": "stdout",
     "output_type": "stream",
     "text": [
      "Making batch prediction... \n",
      "Batch prediction complete.\n",
      "create_time {\n",
      "  seconds: 1561742232\n",
      "  nanos: 573961000\n",
      "}\n",
      "update_time {\n",
      "  seconds: 1561742517\n",
      "  nanos: 425184000\n",
      "}\n",
      "batch_predict_details {\n",
      "  input_config {\n",
      "    bigquery_source {\n",
      "      input_uri: \"bq://hackathon1-183523.demo3.test\"\n",
      "    }\n",
      "  }\n",
      "  output_info {\n",
      "    bigquery_output_dataset: \"bq://hackathon1-183523.prediction_demo3_model_2019_06_28T10_17_12_417Z\"\n",
      "  }\n",
      "}\n",
      "\n"
     ]
    }
   ],
   "source": [
    "# make prediction and store result in BigQuery \n",
    "\n",
    "input_path = '$[bigquery dir here], removed by security reason'\n",
    "output_path = '$[bigquery dir here], removed by security reason'\n",
    "\n",
    "from google.cloud import automl_v1beta1 as automl\n",
    "import csv\n",
    "\n",
    "automl_client = automl.AutoMlClient()\n",
    "\n",
    "# Get the full path of the model.\n",
    "model_full_id = automl_client.model_path(\n",
    "    project_id, location, model_id\n",
    ")\n",
    "\n",
    "# Create client for prediction service.\n",
    "prediction_client = automl.PredictionServiceClient()\n",
    "\n",
    "if input_path.startswith('bq'):\n",
    "    input_config = {\"bigquery_source\": {\"input_uri\": input_path}}\n",
    "else:\n",
    "    # Get the multiple Google Cloud Storage URIs.\n",
    "    input_uris = input_path.split(\",\").strip()\n",
    "    input_config = {\"gcs_source\": {\"input_uris\": input_uris}}\n",
    "\n",
    "if output_path.startswith('bq'):\n",
    "    output_config = {\"bigquery_destination\": {\"output_uri\": output_path}}\n",
    "else:\n",
    "    # Get the multiple Google Cloud Storage URIs.\n",
    "    output_config = {\"gcs_destination\": {\"output_uri_prefix\": output_path}}\n",
    "\n",
    "# Query model\n",
    "response = prediction_client.batch_predict(\n",
    "    model_full_id, input_config, output_config)\n",
    "\n",
    "print(\"Making batch prediction... \")\n",
    "try:\n",
    "    result = response.result()\n",
    "except:\n",
    "    pass\n",
    "print(\"Batch prediction complete.\\n{}\".format(response.metadata))"
   ]
  },
  {
   "cell_type": "code",
   "execution_count": 172,
   "metadata": {},
   "outputs": [
    {
     "data": {
      "text/plain": [
       "True"
      ]
     },
     "execution_count": 172,
     "metadata": {},
     "output_type": "execute_result"
    }
   ],
   "source": [
    "# Check if batch prediction is complete\n",
    "\n",
    "response.done()"
   ]
  },
  {
   "cell_type": "code",
   "execution_count": null,
   "metadata": {},
   "outputs": [
    {
     "name": "stdout",
     "output_type": "stream",
     "text": [
      "Making batch prediction... \n"
     ]
    }
   ],
   "source": [
    "# make prediction and store result in cloud storage\n",
    "input_path = '$[bigquery dir here], removed by security reason'\n",
    "output_path = '$[cloud storage dir here], removed by security reason'\n",
    "\n",
    "from google.cloud import automl_v1beta1 as automl\n",
    "import csv\n",
    "\n",
    "automl_client = automl.AutoMlClient()\n",
    "\n",
    "# Get the full path of the model.\n",
    "model_full_id = automl_client.model_path(\n",
    "    project_id, location, model_id\n",
    ")\n",
    "\n",
    "# Create client for prediction service.\n",
    "prediction_client = automl.PredictionServiceClient()\n",
    "\n",
    "if input_path.startswith('bq'):\n",
    "    input_config = {\"bigquery_source\": {\"input_uri\": input_path}}\n",
    "else:\n",
    "    # Get the multiple Google Cloud Storage URIs.\n",
    "    input_uris = input_path.split(\",\").strip()\n",
    "    input_config = {\"gcs_source\": {\"input_uris\": input_uris}}\n",
    "\n",
    "if output_path.startswith('bq'):\n",
    "    output_config = {\"bigquery_destination\": {\"output_uri\": output_path}}\n",
    "else:\n",
    "    # Get the multiple Google Cloud Storage URIs.\n",
    "    output_config = {\"gcs_destination\": {\"output_uri_prefix\": output_path}}\n",
    "\n",
    "# Query model\n",
    "response = prediction_client.batch_predict(\n",
    "    model_full_id, input_config, output_config)\n",
    "\n",
    "print(\"Making batch prediction... \")\n",
    "try:\n",
    "    result = response.result()\n",
    "except:\n",
    "    pass\n",
    "print(\"Batch prediction complete.\\n{}\".format(response.metadata))"
   ]
  },
  {
   "cell_type": "code",
   "execution_count": 173,
   "metadata": {},
   "outputs": [
    {
     "data": {
      "text/plain": [
       "True"
      ]
     },
     "execution_count": 173,
     "metadata": {},
     "output_type": "execute_result"
    }
   ],
   "source": [
    "# Check if batch prediction is complete\n",
    "\n",
    "response.done()"
   ]
  },
  {
   "cell_type": "code",
   "execution_count": 174,
   "metadata": {},
   "outputs": [
    {
     "name": "stdout",
     "output_type": "stream",
     "text": [
      "Batch prediction results are stored as: gs://demo3_prediction/prediction-demo3_model-2019-06-28T17:22:26.601Z/result.csv\n"
     ]
    }
   ],
   "source": [
    "# Check prediction results\n",
    "\n",
    "gcs_output_directory = response.metadata.batch_predict_details.output_info.gcs_output_directory\n",
    "result_file = gcs_output_directory + '/result.csv'\n",
    "print('Batch prediction results are stored as: {}'.format(result_file))"
   ]
  },
  {
   "cell_type": "markdown",
   "metadata": {},
   "source": [
    "# Session 6: Evaluate predictions"
   ]
  },
  {
   "cell_type": "code",
   "execution_count": 175,
   "metadata": {},
   "outputs": [],
   "source": [
    "from sklearn.metrics import mean_absolute_error\n",
    "from sklearn.metrics import mean_squared_error\n",
    "from sklearn.metrics import r2_score\n",
    "import numpy as np"
   ]
  },
  {
   "cell_type": "code",
   "execution_count": 178,
   "metadata": {},
   "outputs": [],
   "source": [
    "%%bigquery pred\n",
    "SELECT\n",
    "    *\n",
    "FROM \n",
    "`prediction_demo3_model_2019_06_28T10_17_12_417Z.predictions`"
   ]
  },
  {
   "cell_type": "code",
   "execution_count": 179,
   "metadata": {},
   "outputs": [
    {
     "data": {
      "text/html": [
       "<div>\n",
       "<style scoped>\n",
       "    .dataframe tbody tr th:only-of-type {\n",
       "        vertical-align: middle;\n",
       "    }\n",
       "\n",
       "    .dataframe tbody tr th {\n",
       "        vertical-align: top;\n",
       "    }\n",
       "\n",
       "    .dataframe thead th {\n",
       "        text-align: right;\n",
       "    }\n",
       "</style>\n",
       "<table border=\"1\" class=\"dataframe\">\n",
       "  <thead>\n",
       "    <tr style=\"text-align: right;\">\n",
       "      <th></th>\n",
       "      <th>hour</th>\n",
       "      <th>weekday</th>\n",
       "      <th>pickup_latitude</th>\n",
       "      <th>pickup_longitude</th>\n",
       "      <th>dropoff_latitude</th>\n",
       "      <th>dropoff_longitude</th>\n",
       "      <th>k2</th>\n",
       "      <th>is_luxury</th>\n",
       "      <th>fare_dollars</th>\n",
       "      <th>predicted_fare_dollars</th>\n",
       "    </tr>\n",
       "  </thead>\n",
       "  <tbody>\n",
       "    <tr>\n",
       "      <th>0</th>\n",
       "      <td>3.0</td>\n",
       "      <td>Tue</td>\n",
       "      <td>NaN</td>\n",
       "      <td>NaN</td>\n",
       "      <td>NaN</td>\n",
       "      <td>NaN</td>\n",
       "      <td>0</td>\n",
       "      <td>0</td>\n",
       "      <td>8.50</td>\n",
       "      <td>[{'tables': {'value': -5795.5810546875, 'predi...</td>\n",
       "    </tr>\n",
       "    <tr>\n",
       "      <th>1</th>\n",
       "      <td>5.0</td>\n",
       "      <td>Wed</td>\n",
       "      <td>NaN</td>\n",
       "      <td>NaN</td>\n",
       "      <td>NaN</td>\n",
       "      <td>NaN</td>\n",
       "      <td>0</td>\n",
       "      <td>0</td>\n",
       "      <td>7.45</td>\n",
       "      <td>[{'tables': {'value': -5795.63037109375, 'pred...</td>\n",
       "    </tr>\n",
       "    <tr>\n",
       "      <th>2</th>\n",
       "      <td>3.0</td>\n",
       "      <td>Fri</td>\n",
       "      <td>NaN</td>\n",
       "      <td>NaN</td>\n",
       "      <td>41.980264</td>\n",
       "      <td>-87.913625</td>\n",
       "      <td>0</td>\n",
       "      <td>0</td>\n",
       "      <td>48.40</td>\n",
       "      <td>[{'tables': {'value': 3690.22705078125, 'predi...</td>\n",
       "    </tr>\n",
       "    <tr>\n",
       "      <th>3</th>\n",
       "      <td>6.0</td>\n",
       "      <td>Mon</td>\n",
       "      <td>NaN</td>\n",
       "      <td>NaN</td>\n",
       "      <td>NaN</td>\n",
       "      <td>NaN</td>\n",
       "      <td>0</td>\n",
       "      <td>0</td>\n",
       "      <td>17.45</td>\n",
       "      <td>[{'tables': {'value': -5795.44091796875, 'pred...</td>\n",
       "    </tr>\n",
       "    <tr>\n",
       "      <th>4</th>\n",
       "      <td>1.0</td>\n",
       "      <td>Sun</td>\n",
       "      <td>NaN</td>\n",
       "      <td>NaN</td>\n",
       "      <td>NaN</td>\n",
       "      <td>NaN</td>\n",
       "      <td>0</td>\n",
       "      <td>0</td>\n",
       "      <td>7.65</td>\n",
       "      <td>[{'tables': {'value': -5796.4873046875, 'predi...</td>\n",
       "    </tr>\n",
       "  </tbody>\n",
       "</table>\n",
       "</div>"
      ],
      "text/plain": [
       "   hour weekday  pickup_latitude  pickup_longitude  dropoff_latitude  \\\n",
       "0   3.0     Tue              NaN               NaN               NaN   \n",
       "1   5.0     Wed              NaN               NaN               NaN   \n",
       "2   3.0     Fri              NaN               NaN         41.980264   \n",
       "3   6.0     Mon              NaN               NaN               NaN   \n",
       "4   1.0     Sun              NaN               NaN               NaN   \n",
       "\n",
       "   dropoff_longitude k2 is_luxury  fare_dollars  \\\n",
       "0                NaN  0         0          8.50   \n",
       "1                NaN  0         0          7.45   \n",
       "2         -87.913625  0         0         48.40   \n",
       "3                NaN  0         0         17.45   \n",
       "4                NaN  0         0          7.65   \n",
       "\n",
       "                              predicted_fare_dollars  \n",
       "0  [{'tables': {'value': -5795.5810546875, 'predi...  \n",
       "1  [{'tables': {'value': -5795.63037109375, 'pred...  \n",
       "2  [{'tables': {'value': 3690.22705078125, 'predi...  \n",
       "3  [{'tables': {'value': -5795.44091796875, 'pred...  \n",
       "4  [{'tables': {'value': -5796.4873046875, 'predi...  "
      ]
     },
     "execution_count": 179,
     "metadata": {},
     "output_type": "execute_result"
    }
   ],
   "source": [
    "pred.head()"
   ]
  },
  {
   "cell_type": "code",
   "execution_count": 180,
   "metadata": {},
   "outputs": [
    {
     "data": {
      "text/html": [
       "<div>\n",
       "<style scoped>\n",
       "    .dataframe tbody tr th:only-of-type {\n",
       "        vertical-align: middle;\n",
       "    }\n",
       "\n",
       "    .dataframe tbody tr th {\n",
       "        vertical-align: top;\n",
       "    }\n",
       "\n",
       "    .dataframe thead th {\n",
       "        text-align: right;\n",
       "    }\n",
       "</style>\n",
       "<table border=\"1\" class=\"dataframe\">\n",
       "  <thead>\n",
       "    <tr style=\"text-align: right;\">\n",
       "      <th></th>\n",
       "      <th>hour</th>\n",
       "      <th>weekday</th>\n",
       "      <th>pickup_latitude</th>\n",
       "      <th>pickup_longitude</th>\n",
       "      <th>dropoff_latitude</th>\n",
       "      <th>dropoff_longitude</th>\n",
       "      <th>k2</th>\n",
       "      <th>is_luxury</th>\n",
       "      <th>fare_dollars</th>\n",
       "      <th>predicted_fare_dollars</th>\n",
       "      <th>prediction</th>\n",
       "    </tr>\n",
       "  </thead>\n",
       "  <tbody>\n",
       "    <tr>\n",
       "      <th>0</th>\n",
       "      <td>3.0</td>\n",
       "      <td>Tue</td>\n",
       "      <td>NaN</td>\n",
       "      <td>NaN</td>\n",
       "      <td>NaN</td>\n",
       "      <td>NaN</td>\n",
       "      <td>0</td>\n",
       "      <td>0</td>\n",
       "      <td>8.50</td>\n",
       "      <td>[{'tables': {'value': -5795.5810546875, 'predi...</td>\n",
       "      <td>-5795.581055</td>\n",
       "    </tr>\n",
       "    <tr>\n",
       "      <th>1</th>\n",
       "      <td>5.0</td>\n",
       "      <td>Wed</td>\n",
       "      <td>NaN</td>\n",
       "      <td>NaN</td>\n",
       "      <td>NaN</td>\n",
       "      <td>NaN</td>\n",
       "      <td>0</td>\n",
       "      <td>0</td>\n",
       "      <td>7.45</td>\n",
       "      <td>[{'tables': {'value': -5795.63037109375, 'pred...</td>\n",
       "      <td>-5795.630371</td>\n",
       "    </tr>\n",
       "    <tr>\n",
       "      <th>2</th>\n",
       "      <td>3.0</td>\n",
       "      <td>Fri</td>\n",
       "      <td>NaN</td>\n",
       "      <td>NaN</td>\n",
       "      <td>41.980264</td>\n",
       "      <td>-87.913625</td>\n",
       "      <td>0</td>\n",
       "      <td>0</td>\n",
       "      <td>48.40</td>\n",
       "      <td>[{'tables': {'value': 3690.22705078125, 'predi...</td>\n",
       "      <td>3690.227051</td>\n",
       "    </tr>\n",
       "    <tr>\n",
       "      <th>3</th>\n",
       "      <td>6.0</td>\n",
       "      <td>Mon</td>\n",
       "      <td>NaN</td>\n",
       "      <td>NaN</td>\n",
       "      <td>NaN</td>\n",
       "      <td>NaN</td>\n",
       "      <td>0</td>\n",
       "      <td>0</td>\n",
       "      <td>17.45</td>\n",
       "      <td>[{'tables': {'value': -5795.44091796875, 'pred...</td>\n",
       "      <td>-5795.440918</td>\n",
       "    </tr>\n",
       "    <tr>\n",
       "      <th>4</th>\n",
       "      <td>1.0</td>\n",
       "      <td>Sun</td>\n",
       "      <td>NaN</td>\n",
       "      <td>NaN</td>\n",
       "      <td>NaN</td>\n",
       "      <td>NaN</td>\n",
       "      <td>0</td>\n",
       "      <td>0</td>\n",
       "      <td>7.65</td>\n",
       "      <td>[{'tables': {'value': -5796.4873046875, 'predi...</td>\n",
       "      <td>-5796.487305</td>\n",
       "    </tr>\n",
       "  </tbody>\n",
       "</table>\n",
       "</div>"
      ],
      "text/plain": [
       "   hour weekday  pickup_latitude  pickup_longitude  dropoff_latitude  \\\n",
       "0   3.0     Tue              NaN               NaN               NaN   \n",
       "1   5.0     Wed              NaN               NaN               NaN   \n",
       "2   3.0     Fri              NaN               NaN         41.980264   \n",
       "3   6.0     Mon              NaN               NaN               NaN   \n",
       "4   1.0     Sun              NaN               NaN               NaN   \n",
       "\n",
       "   dropoff_longitude k2 is_luxury  fare_dollars  \\\n",
       "0                NaN  0         0          8.50   \n",
       "1                NaN  0         0          7.45   \n",
       "2         -87.913625  0         0         48.40   \n",
       "3                NaN  0         0         17.45   \n",
       "4                NaN  0         0          7.65   \n",
       "\n",
       "                              predicted_fare_dollars   prediction  \n",
       "0  [{'tables': {'value': -5795.5810546875, 'predi... -5795.581055  \n",
       "1  [{'tables': {'value': -5795.63037109375, 'pred... -5795.630371  \n",
       "2  [{'tables': {'value': 3690.22705078125, 'predi...  3690.227051  \n",
       "3  [{'tables': {'value': -5795.44091796875, 'pred... -5795.440918  \n",
       "4  [{'tables': {'value': -5796.4873046875, 'predi... -5796.487305  "
      ]
     },
     "execution_count": 180,
     "metadata": {},
     "output_type": "execute_result"
    }
   ],
   "source": [
    "# apply function to get prediction results from AutoML Tables, then update pd dataframe\n",
    "\n",
    "def prediction(x):\n",
    "    \"\"\"\n",
    "    decode the prediction from the nested table in Bigquery\n",
    "    \"\"\"\n",
    "    return x[0]['tables']['value']\n",
    "\n",
    "prediction = pred['predicted_fare_dollars'].apply(prediction)\n",
    "\n",
    "pred['prediction'] = prediction\n",
    "\n",
    "pred.head()"
   ]
  },
  {
   "cell_type": "code",
   "execution_count": 182,
   "metadata": {},
   "outputs": [
    {
     "data": {
      "text/plain": [
       "count      64.000000\n",
       "mean     -288.501869\n",
       "std      1504.917184\n",
       "min     -5796.487305\n",
       "25%         8.186570\n",
       "50%        12.453754\n",
       "75%        21.323927\n",
       "max      3690.227051\n",
       "Name: prediction, dtype: float64"
      ]
     },
     "execution_count": 182,
     "metadata": {},
     "output_type": "execute_result"
    }
   ],
   "source": [
    "pred['prediction'].describe()"
   ]
  },
  {
   "cell_type": "markdown",
   "metadata": {},
   "source": [
    "since the predicted fare should not be any negative number, we will ignor the test row with null input in any column."
   ]
  },
  {
   "cell_type": "code",
   "execution_count": 190,
   "metadata": {},
   "outputs": [
    {
     "name": "stdout",
     "output_type": "stream",
     "text": [
      "(59, 13)\n"
     ]
    },
    {
     "data": {
      "text/html": [
       "<div>\n",
       "<style scoped>\n",
       "    .dataframe tbody tr th:only-of-type {\n",
       "        vertical-align: middle;\n",
       "    }\n",
       "\n",
       "    .dataframe tbody tr th {\n",
       "        vertical-align: top;\n",
       "    }\n",
       "\n",
       "    .dataframe thead th {\n",
       "        text-align: right;\n",
       "    }\n",
       "</style>\n",
       "<table border=\"1\" class=\"dataframe\">\n",
       "  <thead>\n",
       "    <tr style=\"text-align: right;\">\n",
       "      <th></th>\n",
       "      <th>hour</th>\n",
       "      <th>weekday</th>\n",
       "      <th>pickup_latitude</th>\n",
       "      <th>pickup_longitude</th>\n",
       "      <th>dropoff_latitude</th>\n",
       "      <th>dropoff_longitude</th>\n",
       "      <th>k2</th>\n",
       "      <th>is_luxury</th>\n",
       "      <th>fare_dollars</th>\n",
       "      <th>predicted_fare_dollars</th>\n",
       "      <th>prediction</th>\n",
       "      <th>AE</th>\n",
       "      <th>SE</th>\n",
       "    </tr>\n",
       "  </thead>\n",
       "  <tbody>\n",
       "    <tr>\n",
       "      <th>5</th>\n",
       "      <td>7.0</td>\n",
       "      <td>Sun</td>\n",
       "      <td>41.857184</td>\n",
       "      <td>-87.620335</td>\n",
       "      <td>41.874005</td>\n",
       "      <td>-87.663518</td>\n",
       "      <td>0</td>\n",
       "      <td>0</td>\n",
       "      <td>9.00</td>\n",
       "      <td>[{'tables': {'value': 9.624988555908203, 'pred...</td>\n",
       "      <td>9.624989</td>\n",
       "      <td>0.624989</td>\n",
       "      <td>0.390611</td>\n",
       "    </tr>\n",
       "    <tr>\n",
       "      <th>6</th>\n",
       "      <td>3.0</td>\n",
       "      <td>Tue</td>\n",
       "      <td>41.979071</td>\n",
       "      <td>-87.903040</td>\n",
       "      <td>41.880994</td>\n",
       "      <td>-87.632746</td>\n",
       "      <td>0</td>\n",
       "      <td>0</td>\n",
       "      <td>40.45</td>\n",
       "      <td>[{'tables': {'value': 39.28802490234375, 'pred...</td>\n",
       "      <td>39.288025</td>\n",
       "      <td>1.161975</td>\n",
       "      <td>1.350186</td>\n",
       "    </tr>\n",
       "    <tr>\n",
       "      <th>7</th>\n",
       "      <td>16.0</td>\n",
       "      <td>Wed</td>\n",
       "      <td>41.979071</td>\n",
       "      <td>-87.903040</td>\n",
       "      <td>41.892508</td>\n",
       "      <td>-87.626215</td>\n",
       "      <td>0</td>\n",
       "      <td>0</td>\n",
       "      <td>43.00</td>\n",
       "      <td>[{'tables': {'value': 38.191898345947266, 'pre...</td>\n",
       "      <td>38.191898</td>\n",
       "      <td>4.808102</td>\n",
       "      <td>23.117842</td>\n",
       "    </tr>\n",
       "    <tr>\n",
       "      <th>8</th>\n",
       "      <td>10.0</td>\n",
       "      <td>Sat</td>\n",
       "      <td>41.979071</td>\n",
       "      <td>-87.903040</td>\n",
       "      <td>41.859350</td>\n",
       "      <td>-87.617358</td>\n",
       "      <td>0</td>\n",
       "      <td>0</td>\n",
       "      <td>52.25</td>\n",
       "      <td>[{'tables': {'value': 43.623130798339844, 'pre...</td>\n",
       "      <td>43.623131</td>\n",
       "      <td>8.626869</td>\n",
       "      <td>74.422872</td>\n",
       "    </tr>\n",
       "    <tr>\n",
       "      <th>9</th>\n",
       "      <td>8.0</td>\n",
       "      <td>Fri</td>\n",
       "      <td>41.979071</td>\n",
       "      <td>-87.903040</td>\n",
       "      <td>41.900266</td>\n",
       "      <td>-87.632109</td>\n",
       "      <td>0</td>\n",
       "      <td>0</td>\n",
       "      <td>44.75</td>\n",
       "      <td>[{'tables': {'value': 38.33723449707031, 'pred...</td>\n",
       "      <td>38.337234</td>\n",
       "      <td>6.412766</td>\n",
       "      <td>41.123561</td>\n",
       "    </tr>\n",
       "  </tbody>\n",
       "</table>\n",
       "</div>"
      ],
      "text/plain": [
       "   hour weekday  pickup_latitude  pickup_longitude  dropoff_latitude  \\\n",
       "5   7.0     Sun        41.857184        -87.620335         41.874005   \n",
       "6   3.0     Tue        41.979071        -87.903040         41.880994   \n",
       "7  16.0     Wed        41.979071        -87.903040         41.892508   \n",
       "8  10.0     Sat        41.979071        -87.903040         41.859350   \n",
       "9   8.0     Fri        41.979071        -87.903040         41.900266   \n",
       "\n",
       "   dropoff_longitude k2 is_luxury  fare_dollars  \\\n",
       "5         -87.663518  0         0          9.00   \n",
       "6         -87.632746  0         0         40.45   \n",
       "7         -87.626215  0         0         43.00   \n",
       "8         -87.617358  0         0         52.25   \n",
       "9         -87.632109  0         0         44.75   \n",
       "\n",
       "                              predicted_fare_dollars  prediction        AE  \\\n",
       "5  [{'tables': {'value': 9.624988555908203, 'pred...    9.624989  0.624989   \n",
       "6  [{'tables': {'value': 39.28802490234375, 'pred...   39.288025  1.161975   \n",
       "7  [{'tables': {'value': 38.191898345947266, 'pre...   38.191898  4.808102   \n",
       "8  [{'tables': {'value': 43.623130798339844, 'pre...   43.623131  8.626869   \n",
       "9  [{'tables': {'value': 38.33723449707031, 'pred...   38.337234  6.412766   \n",
       "\n",
       "          SE  \n",
       "5   0.390611  \n",
       "6   1.350186  \n",
       "7  23.117842  \n",
       "8  74.422872  \n",
       "9  41.123561  "
      ]
     },
     "execution_count": 190,
     "metadata": {},
     "output_type": "execute_result"
    }
   ],
   "source": [
    "pred = pred.dropna(axis='rows')\n",
    "print(pred.shape) \n",
    "pred.head()"
   ]
  },
  {
   "cell_type": "code",
   "execution_count": 191,
   "metadata": {},
   "outputs": [],
   "source": [
    "pred['AE'] = pred.apply(lambda x: np.abs(x['fare_dollars'] - x['prediction']), axis=1)\n",
    "pred['SE'] = pred.apply(lambda x: np.abs(x['fare_dollars'] - x['prediction'])**2, axis=1)"
   ]
  },
  {
   "cell_type": "code",
   "execution_count": 192,
   "metadata": {},
   "outputs": [
    {
     "data": {
      "text/plain": [
       "count    59.000000\n",
       "mean      1.649011\n",
       "std       1.666399\n",
       "min       0.032120\n",
       "25%       0.518224\n",
       "50%       1.071329\n",
       "75%       2.021519\n",
       "max       8.626869\n",
       "Name: AE, dtype: float64"
      ]
     },
     "execution_count": 192,
     "metadata": {},
     "output_type": "execute_result"
    }
   ],
   "source": [
    "pred['AE'].describe()"
   ]
  },
  {
   "cell_type": "code",
   "execution_count": 193,
   "metadata": {},
   "outputs": [
    {
     "name": "stdout",
     "output_type": "stream",
     "text": [
      "MAE is:  1.6490113229266667\n"
     ]
    }
   ],
   "source": [
    "MAE1 = mean_absolute_error(pred['fare_dollars'], pred['prediction'])\n",
    "print('MAE is: ', MAE1)"
   ]
  },
  {
   "cell_type": "code",
   "execution_count": 194,
   "metadata": {},
   "outputs": [
    {
     "data": {
      "text/plain": [
       "<matplotlib.axes._subplots.AxesSubplot at 0x7f5242917cc0>"
      ]
     },
     "execution_count": 194,
     "metadata": {},
     "output_type": "execute_result"
    },
    {
     "data": {
      "image/png": "[encoded data removed]",
      "text/plain": [
       "<Figure size 720x504 with 1 Axes>"
      ]
     },
     "metadata": {},
     "output_type": "display_data"
    }
   ],
   "source": [
    "plt.figure(figsize=(10,7))\n",
    "sns.distplot(pred['AE'])"
   ]
  },
  {
   "cell_type": "code",
   "execution_count": 195,
   "metadata": {},
   "outputs": [
    {
     "data": {
      "text/plain": [
       "count    59.000000\n",
       "mean      5.449059\n",
       "std      11.822232\n",
       "min       0.001032\n",
       "25%       0.269649\n",
       "50%       1.147745\n",
       "75%       4.093290\n",
       "max      74.422872\n",
       "Name: SE, dtype: float64"
      ]
     },
     "execution_count": 195,
     "metadata": {},
     "output_type": "execute_result"
    }
   ],
   "source": [
    "pred['SE'].describe()"
   ]
  },
  {
   "cell_type": "code",
   "execution_count": 196,
   "metadata": {},
   "outputs": [
    {
     "name": "stdout",
     "output_type": "stream",
     "text": [
      "RMSE is:  5.449059009903074\n"
     ]
    }
   ],
   "source": [
    "RMSE1 = mean_squared_error(pred['fare_dollars'], pred['prediction'])\n",
    "print('RMSE is: ', RMSE1)"
   ]
  },
  {
   "cell_type": "code",
   "execution_count": 197,
   "metadata": {},
   "outputs": [
    {
     "data": {
      "text/plain": [
       "<matplotlib.axes._subplots.AxesSubplot at 0x7f52428747b8>"
      ]
     },
     "execution_count": 197,
     "metadata": {},
     "output_type": "execute_result"
    },
    {
     "data": {
      "image/png": "[encoded data removed]",
      "text/plain": [
       "<Figure size 720x504 with 1 Axes>"
      ]
     },
     "metadata": {},
     "output_type": "display_data"
    }
   ],
   "source": [
    "plt.figure(figsize=(10,7))\n",
    "sns.distplot(pred['SE'])"
   ]
  },
  {
   "cell_type": "code",
   "execution_count": 199,
   "metadata": {},
   "outputs": [
    {
     "data": {
      "image/png": "[encoded data removed]",
      "text/plain": [
       "<Figure size 720x360 with 1 Axes>"
      ]
     },
     "metadata": {},
     "output_type": "display_data"
    }
   ],
   "source": [
    "plt.figure(figsize=(10,5))\n",
    "plt.gca().set_ylim(top=200)\n",
    "plt.gca().set_ylim(bottom=-10)\n",
    "sns.scatterplot(pred.index,pred['fare_dollars'], color='black')\n",
    "sns.scatterplot(pred.index,pred['prediction'], color='red')\n",
    "plt.gca().legend(('actual_fare','predicted_fare'))\n",
    "plt.ylabel('fare (US dollars)')\n",
    "plt.show()"
   ]
  },
  {
   "cell_type": "code",
   "execution_count": 200,
   "metadata": {},
   "outputs": [
    {
     "name": "stdout",
     "output_type": "stream",
     "text": [
      "R-squared is:  0.966618511860465\n",
      "MAPE is:  0.11118200355675868\n"
     ]
    }
   ],
   "source": [
    "R_sq2 = r2_score(pred['fare_dollars'], pred['prediction'], multioutput='variance_weighted') \n",
    "print('R-squared is: ', R_sq2)\n",
    "\n",
    "def MAPE(y_true, y_pred):\n",
    "    return np.mean(np.abs((y_true - y_pred) / y_true))\n",
    "\n",
    "MAPE1 = MAPE(pred['fare_dollars'], pred['prediction'])\n",
    "print('MAPE is: ', MAPE1)"
   ]
  },
  {
   "cell_type": "code",
   "execution_count": null,
   "metadata": {},
   "outputs": [],
   "source": []
  },
  {
   "cell_type": "markdown",
   "metadata": {},
   "source": [
    "# Session 7: Online prediction (require enable deploying in GCP)"
   ]
  },
  {
   "cell_type": "markdown",
   "metadata": {},
   "source": [
    "1. deploy the model to enable online prediction"
   ]
  },
  {
   "cell_type": "code",
   "execution_count": 201,
   "metadata": {},
   "outputs": [
    {
     "name": "stdout",
     "output_type": "stream",
     "text": [
      "{\n",
      "  \"name\": \"projects/401832599639/locations/us-central1/operations/TBL1753611095139942400\",\n",
      "  \"metadata\": {\n",
      "    \"@type\": \"type.googleapis.com/google.cloud.automl.v1beta1.OperationMetadata\",\n",
      "    \"createTime\": \"2019-06-28T17:40:50.769920Z\",\n",
      "    \"updateTime\": \"2019-06-28T17:40:50.769920Z\",\n",
      "    \"deployModelDetails\": {}\n",
      "  }\n",
      "}\n"
     ]
    }
   ],
   "source": [
    "! curl -X POST \\\n",
    "-H \"Authorization: Bearer $(gcloud auth application-default print-access-token)\" \\\n",
    "https://automl.googleapis.com/v1beta1/projects/hackathon1-183523/locations/us-central1/models/TBL4988132411498823680:deploy"
   ]
  },
  {
   "cell_type": "markdown",
   "metadata": {},
   "source": [
    "2. online prediction (sample test)"
   ]
  },
  {
   "cell_type": "code",
   "execution_count": 235,
   "metadata": {},
   "outputs": [],
   "source": [
    "# create a json file to store the prediction features\n",
    "\n",
    "import json\n",
    "\n",
    "data = {\n",
    "  \"payload\": {\n",
    "    \"row\": {\n",
    "      \"values\": [\n",
    "        41.808916283,\n",
    "        -87.596183344,\n",
    "        \"0\",\n",
    "        \"Thu\",\n",
    "        \"0\",\n",
    "        -87.61867776700001,\n",
    "        \"14\",\n",
    "        41.835117986\n",
    "      ],\n",
    "      \"columnSpecIds\": [\n",
    "        \"7914399045940936704\",\n",
    "        \"2149791522906701824\",\n",
    "        \"4455634532120395776\",\n",
    "        \"9067320550547783680\",\n",
    "        \"276294077920575488\",\n",
    "        \"4887980096347963392\",\n",
    "        \"2582137087134269440\",\n",
    "        \"7193823105561657344\"\n",
    "      ]\n",
    "    }\n",
    "  }\n",
    "}  \n",
    "\n",
    "with open('request.json', 'w') as outfile:  \n",
    "    json.dump(data, outfile)"
   ]
  },
  {
   "cell_type": "code",
   "execution_count": 236,
   "metadata": {},
   "outputs": [
    {
     "name": "stdout",
     "output_type": "stream",
     "text": [
      "{\n",
      "  \"payload\": [\n",
      "    {\n",
      "      \"tables\": {\n",
      "        \"value\": 9.7516450881958,\n",
      "        \"predictionInterval\": {\n",
      "          \"start\": 4.7715277671813965,\n",
      "          \"end\": 25.491241455078125\n",
      "        }\n",
      "      }\n",
      "    }\n",
      "  ]\n",
      "}\n"
     ]
    }
   ],
   "source": [
    "! curl -X POST -H \"Content-Type: application/json\" \\\n",
    "  -H \"Authorization: Bearer $(gcloud auth application-default print-access-token)\" \\\n",
    "  https://automl.googleapis.com/v1beta1/projects/hackathon1-183523/locations/us-central1/models/TBL4988132411498823680:predict \\\n",
    "  -d @request.json"
   ]
  },
  {
   "cell_type": "code",
   "execution_count": null,
   "metadata": {},
   "outputs": [],
   "source": []
  },
  {
   "cell_type": "markdown",
   "metadata": {},
   "source": [
    "3. undeploy after online prediction"
   ]
  },
  {
   "cell_type": "code",
   "execution_count": null,
   "metadata": {},
   "outputs": [],
   "source": [
    "! curl -X POST \\\n",
    "-H \"Authorization: Bearer $(gcloud auth application-default print-access-token)\" \\\n",
    "https://automl.googleapis.com/v1beta1/projects/hackathon1-183523/locations/us-central1/models/TBL4988132411498823680:undeploy"
   ]
  },
  {
   "cell_type": "code",
   "execution_count": null,
   "metadata": {},
   "outputs": [],
   "source": []
  }
 ],
 "metadata": {
  "kernelspec": {
   "display_name": "Python 3",
   "language": "python",
   "name": "python3"
  },
  "language_info": {
   "codemirror_mode": {
    "name": "ipython",
    "version": 3
   },
   "file_extension": ".py",
   "mimetype": "text/x-python",
   "name": "python",
   "nbconvert_exporter": "python",
   "pygments_lexer": "ipython3",
   "version": "3.5.3"
  }
 },
 "nbformat": 4,
 "nbformat_minor": 2
}
